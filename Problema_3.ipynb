{
  "cells": [
    {
      "cell_type": "markdown",
      "metadata": {
        "id": "H3ZDRo7Adzel"
      },
      "source": [
        "# TUIA / AAII - TP1: Redes Densas y Convoluciones - Problema 3"
      ]
    },
    {
      "cell_type": "markdown",
      "source": [],
      "metadata": {
        "id": "XSrCzhAPd_3d"
      }
    },
    {
      "cell_type": "markdown",
      "metadata": {
        "id": "URdgSsUDdzer"
      },
      "source": [
        "## Preparación del entorno"
      ]
    },
    {
      "cell_type": "markdown",
      "metadata": {
        "id": "2n98GA0udzes"
      },
      "source": [
        "### Librerías"
      ]
    },
    {
      "cell_type": "code",
      "execution_count": null,
      "metadata": {
        "id": "75pGqUpRdzes"
      },
      "outputs": [],
      "source": [
        "!pip install -q gdown"
      ]
    },
    {
      "cell_type": "code",
      "execution_count": null,
      "metadata": {
        "id": "_R62AuG0dzeu"
      },
      "outputs": [],
      "source": []
    },
    {
      "cell_type": "markdown",
      "metadata": {
        "id": "qkg2mHtndzeu"
      },
      "source": [
        "### Dataset"
      ]
    },
    {
      "cell_type": "markdown",
      "metadata": {
        "id": "n3qQGCzXdzev"
      },
      "source": [
        "Descarga"
      ]
    },
    {
      "cell_type": "code",
      "execution_count": null,
      "metadata": {
        "id": "EEfH_h_Vdzew"
      },
      "outputs": [],
      "source": [
        "# TP1-1-student_performance.zip\n",
        "gdown.download('https://drive.google.com/uc?id=1mfpXVLqDJah-sO0CF29LjKUz5NtKjZqc')"
      ]
    },
    {
      "cell_type": "markdown",
      "metadata": {
        "id": "CTkg75D_dzew"
      },
      "source": [
        "Descompresión"
      ]
    },
    {
      "cell_type": "code",
      "execution_count": null,
      "metadata": {
        "id": "hIA9Y88Ndzex"
      },
      "outputs": [],
      "source": [
        "with zipfile.ZipFile('TP1-1-student_performance.zip', 'r') as zip_ref:\n",
        "    zip_ref.extractall('./TP1-1')"
      ]
    }
  ],
  "metadata": {
    "language_info": {
      "name": "python"
    },
    "colab": {
      "provenance": []
    }
  },
  "nbformat": 4,
  "nbformat_minor": 0
}